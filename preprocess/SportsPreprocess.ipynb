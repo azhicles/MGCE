{
 "cells": [
  {
   "cell_type": "code",
   "execution_count": 5,
   "id": "e2c1dd02-4500-4ee9-8d7b-ccdbfe96df5a",
   "metadata": {},
   "outputs": [
    {
     "data": {
      "text/html": [
       "<div>\n",
       "<style scoped>\n",
       "    .dataframe tbody tr th:only-of-type {\n",
       "        vertical-align: middle;\n",
       "    }\n",
       "\n",
       "    .dataframe tbody tr th {\n",
       "        vertical-align: top;\n",
       "    }\n",
       "\n",
       "    .dataframe thead th {\n",
       "        text-align: right;\n",
       "    }\n",
       "</style>\n",
       "<table border=\"1\" class=\"dataframe\">\n",
       "  <thead>\n",
       "    <tr style=\"text-align: right;\">\n",
       "      <th></th>\n",
       "      <th>userID</th>\n",
       "      <th>itemID</th>\n",
       "      <th>rating</th>\n",
       "      <th>timestamp</th>\n",
       "      <th>x_label</th>\n",
       "    </tr>\n",
       "  </thead>\n",
       "  <tbody>\n",
       "    <tr>\n",
       "      <th>0</th>\n",
       "      <td>0</td>\n",
       "      <td>11981</td>\n",
       "      <td>2.0</td>\n",
       "      <td>1390694400</td>\n",
       "      <td>0</td>\n",
       "    </tr>\n",
       "    <tr>\n",
       "      <th>1</th>\n",
       "      <td>0</td>\n",
       "      <td>15852</td>\n",
       "      <td>5.0</td>\n",
       "      <td>1390694400</td>\n",
       "      <td>0</td>\n",
       "    </tr>\n",
       "    <tr>\n",
       "      <th>2</th>\n",
       "      <td>0</td>\n",
       "      <td>17787</td>\n",
       "      <td>3.0</td>\n",
       "      <td>1391990400</td>\n",
       "      <td>0</td>\n",
       "    </tr>\n",
       "    <tr>\n",
       "      <th>3</th>\n",
       "      <td>0</td>\n",
       "      <td>0</td>\n",
       "      <td>5.0</td>\n",
       "      <td>1390694400</td>\n",
       "      <td>0</td>\n",
       "    </tr>\n",
       "    <tr>\n",
       "      <th>4</th>\n",
       "      <td>0</td>\n",
       "      <td>3369</td>\n",
       "      <td>5.0</td>\n",
       "      <td>1405123200</td>\n",
       "      <td>0</td>\n",
       "    </tr>\n",
       "  </tbody>\n",
       "</table>\n",
       "</div>"
      ],
      "text/plain": [
       "   userID  itemID  rating   timestamp  x_label\n",
       "0       0   11981     2.0  1390694400        0\n",
       "1       0   15852     5.0  1390694400        0\n",
       "2       0   17787     3.0  1391990400        0\n",
       "3       0       0     5.0  1390694400        0\n",
       "4       0    3369     5.0  1405123200        0"
      ]
     },
     "execution_count": 5,
     "metadata": {},
     "output_type": "execute_result"
    }
   ],
   "source": [
    "import pandas as pd\n",
    "# Reload the CSV file using tab ('\\t') as the delimiter\n",
    "data = pd.read_csv('../Data/sports/sports.inter', delimiter='\\t')\n",
    "\n",
    "# Display the first few rows of the DataFrame to confirm it's loaded correctly\n",
    "data.head()\n"
   ]
  },
  {
   "cell_type": "code",
   "execution_count": 6,
   "id": "08672858-0435-4b04-87c5-afb9582b11e7",
   "metadata": {},
   "outputs": [
    {
     "data": {
      "text/html": [
       "<div>\n",
       "<style scoped>\n",
       "    .dataframe tbody tr th:only-of-type {\n",
       "        vertical-align: middle;\n",
       "    }\n",
       "\n",
       "    .dataframe tbody tr th {\n",
       "        vertical-align: top;\n",
       "    }\n",
       "\n",
       "    .dataframe thead th {\n",
       "        text-align: right;\n",
       "    }\n",
       "</style>\n",
       "<table border=\"1\" class=\"dataframe\">\n",
       "  <thead>\n",
       "    <tr style=\"text-align: right;\">\n",
       "      <th></th>\n",
       "      <th>itemID</th>\n",
       "      <th>popularity</th>\n",
       "    </tr>\n",
       "  </thead>\n",
       "  <tbody>\n",
       "    <tr>\n",
       "      <th>11062</th>\n",
       "      <td>0</td>\n",
       "      <td>6</td>\n",
       "    </tr>\n",
       "    <tr>\n",
       "      <th>6784</th>\n",
       "      <td>1</td>\n",
       "      <td>10</td>\n",
       "    </tr>\n",
       "    <tr>\n",
       "      <th>17072</th>\n",
       "      <td>2</td>\n",
       "      <td>4</td>\n",
       "    </tr>\n",
       "    <tr>\n",
       "      <th>208</th>\n",
       "      <td>3</td>\n",
       "      <td>95</td>\n",
       "    </tr>\n",
       "    <tr>\n",
       "      <th>4659</th>\n",
       "      <td>4</td>\n",
       "      <td>14</td>\n",
       "    </tr>\n",
       "  </tbody>\n",
       "</table>\n",
       "</div>"
      ],
      "text/plain": [
       "       itemID  popularity\n",
       "11062       0           6\n",
       "6784        1          10\n",
       "17072       2           4\n",
       "208         3          95\n",
       "4659        4          14"
      ]
     },
     "execution_count": 6,
     "metadata": {},
     "output_type": "execute_result"
    }
   ],
   "source": [
    "# Filter the training data where x_label is 0 or 1\n",
    "training_data = data[data['x_label'].isin([0, 1])]\n",
    "\n",
    "# Calculate the item popularity for items in the training set\n",
    "item_popularity = training_data['itemID'].value_counts().reset_index()\n",
    "item_popularity.columns = ['itemID', 'popularity']\n",
    "\n",
    "# Sort the item popularity data by itemID\n",
    "item_popularity_sorted = item_popularity.sort_values(by='itemID')\n",
    "\n",
    "# Display the sorted item popularity data\n",
    "item_popularity_sorted.head()\n"
   ]
  },
  {
   "cell_type": "code",
   "execution_count": 7,
   "id": "7529f86c-6b1e-4581-839f-a34575ba226e",
   "metadata": {},
   "outputs": [],
   "source": [
    "item_popularity_sorted.to_csv('../Data/sports/item_popularity.txt', sep=' ', index=False, header=False)"
   ]
  },
  {
   "cell_type": "code",
   "execution_count": 8,
   "id": "82bb4f9d-f18e-4f8d-837a-543726c8f1eb",
   "metadata": {},
   "outputs": [],
   "source": [
    "train_data = data[data['x_label'].isin([0, 1])]\n",
    "test_data = data[data['x_label'] == 2]\n",
    "\n",
    "\n",
    "# For training data with all values as integers\n",
    "train_final_numbers = train_data.groupby('userID')['itemID'].apply(lambda x: ' '.join(map(str, map(int, x)))).reset_index()\n",
    "train_final_numbers['formatted'] = train_final_numbers['userID'].astype(int).astype(str) + ' ' + train_final_numbers['itemID']\n",
    "train_final_numbers['formatted'].to_csv('../Data/sports/train.txt', header=False, index=False)\n",
    "\n",
    "# For testing data with all values as integers\n",
    "test_final_numbers = test_data.groupby('userID')['itemID'].apply(lambda x: ' '.join(map(str, map(int, x)))).reset_index()\n",
    "test_final_numbers['formatted'] = test_final_numbers['userID'].astype(int).astype(str) + ' ' + test_final_numbers['itemID']\n",
    "test_final_numbers['formatted'].to_csv('../Data/sports/test.txt', header=False, index=False)\n"
   ]
  },
  {
   "cell_type": "code",
   "execution_count": 9,
   "id": "ac48b180-a9f6-44df-b4a0-d679590a180a",
   "metadata": {},
   "outputs": [
    {
     "data": {
      "text/plain": [
       "(18357, 384)"
      ]
     },
     "execution_count": 9,
     "metadata": {},
     "output_type": "execute_result"
    }
   ],
   "source": [
    "import numpy as np\n",
    "\n",
    "# Load the .npy file\n",
    "npy_data = np.load('../Data/sports/text_feat.npy')\n",
    "\n",
    "npy_data.shape"
   ]
  },
  {
   "cell_type": "code",
   "execution_count": 10,
   "id": "006b8486-64cc-4644-88c7-25b47c6192c2",
   "metadata": {},
   "outputs": [],
   "source": [
    "\n",
    "format_str = '%d ' + ' '.join(['%f'] * npy_data.shape[1])\n",
    "\n",
    "# Prepare the data with indices\n",
    "indexed_data = np.hstack((np.arange(npy_data.shape[0]).reshape(-1, 1), npy_data))\n",
    "\n",
    "# Save to text file\n",
    "np.savetxt('../Data/sports/itemtitle2vec.txt', indexed_data, fmt=format_str)\n"
   ]
  },
  {
   "cell_type": "code",
   "execution_count": 11,
   "id": "26ec975b-9bbb-4302-adc7-69ebc1841507",
   "metadata": {},
   "outputs": [],
   "source": [
    "# Load the .npy file\n",
    "npy_data = np.load('../Data/sports/image_feat.npy')\n",
    "\n",
    "npy_data\n",
    "\n",
    "format_str = '%d ' + ' '.join(['%f'] * npy_data.shape[1])\n",
    "\n",
    "# Prepare the data with indices\n",
    "indexed_data = np.hstack((np.arange(npy_data.shape[0]).reshape(-1, 1), npy_data))\n",
    "\n",
    "# Save to text file\n",
    "np.savetxt('../Data/sports/item2imgfeat.txt', indexed_data, fmt=format_str)\n"
   ]
  }
 ],
 "metadata": {
  "kernelspec": {
   "display_name": "base",
   "language": "python",
   "name": "python3"
  },
  "language_info": {
   "codemirror_mode": {
    "name": "ipython",
    "version": 3
   },
   "file_extension": ".py",
   "mimetype": "text/x-python",
   "name": "python",
   "nbconvert_exporter": "python",
   "pygments_lexer": "ipython3",
   "version": "3.12.10"
  }
 },
 "nbformat": 4,
 "nbformat_minor": 5
}
