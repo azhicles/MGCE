{
 "cells": [
  {
   "cell_type": "code",
   "execution_count": 1,
   "id": "e2c1dd02-4500-4ee9-8d7b-ccdbfe96df5a",
   "metadata": {},
   "outputs": [
    {
     "data": {
      "text/html": [
       "<div>\n",
       "<style scoped>\n",
       "    .dataframe tbody tr th:only-of-type {\n",
       "        vertical-align: middle;\n",
       "    }\n",
       "\n",
       "    .dataframe tbody tr th {\n",
       "        vertical-align: top;\n",
       "    }\n",
       "\n",
       "    .dataframe thead th {\n",
       "        text-align: right;\n",
       "    }\n",
       "</style>\n",
       "<table border=\"1\" class=\"dataframe\">\n",
       "  <thead>\n",
       "    <tr style=\"text-align: right;\">\n",
       "      <th></th>\n",
       "      <th>userID</th>\n",
       "      <th>itemID</th>\n",
       "      <th>rating</th>\n",
       "      <th>timestamp</th>\n",
       "      <th>x_label</th>\n",
       "    </tr>\n",
       "  </thead>\n",
       "  <tbody>\n",
       "    <tr>\n",
       "      <th>0</th>\n",
       "      <td>0</td>\n",
       "      <td>59952</td>\n",
       "      <td>5.0</td>\n",
       "      <td>1379980800</td>\n",
       "      <td>0</td>\n",
       "    </tr>\n",
       "    <tr>\n",
       "      <th>1</th>\n",
       "      <td>0</td>\n",
       "      <td>53113</td>\n",
       "      <td>4.0</td>\n",
       "      <td>1353456000</td>\n",
       "      <td>0</td>\n",
       "    </tr>\n",
       "    <tr>\n",
       "      <th>2</th>\n",
       "      <td>0</td>\n",
       "      <td>0</td>\n",
       "      <td>5.0</td>\n",
       "      <td>1370131200</td>\n",
       "      <td>0</td>\n",
       "    </tr>\n",
       "    <tr>\n",
       "      <th>3</th>\n",
       "      <td>0</td>\n",
       "      <td>46881</td>\n",
       "      <td>5.0</td>\n",
       "      <td>1375920000</td>\n",
       "      <td>0</td>\n",
       "    </tr>\n",
       "    <tr>\n",
       "      <th>4</th>\n",
       "      <td>0</td>\n",
       "      <td>32410</td>\n",
       "      <td>5.0</td>\n",
       "      <td>1366156800</td>\n",
       "      <td>0</td>\n",
       "    </tr>\n",
       "  </tbody>\n",
       "</table>\n",
       "</div>"
      ],
      "text/plain": [
       "   userID  itemID  rating   timestamp  x_label\n",
       "0       0   59952     5.0  1379980800        0\n",
       "1       0   53113     4.0  1353456000        0\n",
       "2       0       0     5.0  1370131200        0\n",
       "3       0   46881     5.0  1375920000        0\n",
       "4       0   32410     5.0  1366156800        0"
      ]
     },
     "execution_count": 1,
     "metadata": {},
     "output_type": "execute_result"
    }
   ],
   "source": [
    "import pandas as pd\n",
    "# Reload the CSV file using tab ('\\t') as the delimiter\n",
    "data = pd.read_csv('../Data/elec/elec.inter', delimiter='\\t')\n",
    "\n",
    "# Display the first few rows of the DataFrame to confirm it's loaded correctly\n",
    "data.head()\n"
   ]
  },
  {
   "cell_type": "code",
   "execution_count": 2,
   "id": "08672858-0435-4b04-87c5-afb9582b11e7",
   "metadata": {},
   "outputs": [
    {
     "data": {
      "text/html": [
       "<div>\n",
       "<style scoped>\n",
       "    .dataframe tbody tr th:only-of-type {\n",
       "        vertical-align: middle;\n",
       "    }\n",
       "\n",
       "    .dataframe tbody tr th {\n",
       "        vertical-align: top;\n",
       "    }\n",
       "\n",
       "    .dataframe thead th {\n",
       "        text-align: right;\n",
       "    }\n",
       "</style>\n",
       "<table border=\"1\" class=\"dataframe\">\n",
       "  <thead>\n",
       "    <tr style=\"text-align: right;\">\n",
       "      <th></th>\n",
       "      <th>itemID</th>\n",
       "      <th>popularity</th>\n",
       "    </tr>\n",
       "  </thead>\n",
       "  <tbody>\n",
       "    <tr>\n",
       "      <th>59838</th>\n",
       "      <td>0</td>\n",
       "      <td>4</td>\n",
       "    </tr>\n",
       "    <tr>\n",
       "      <th>59797</th>\n",
       "      <td>1</td>\n",
       "      <td>4</td>\n",
       "    </tr>\n",
       "    <tr>\n",
       "      <th>54042</th>\n",
       "      <td>2</td>\n",
       "      <td>5</td>\n",
       "    </tr>\n",
       "    <tr>\n",
       "      <th>800</th>\n",
       "      <td>3</td>\n",
       "      <td>198</td>\n",
       "    </tr>\n",
       "    <tr>\n",
       "      <th>9019</th>\n",
       "      <td>4</td>\n",
       "      <td>33</td>\n",
       "    </tr>\n",
       "  </tbody>\n",
       "</table>\n",
       "</div>"
      ],
      "text/plain": [
       "       itemID  popularity\n",
       "59838       0           4\n",
       "59797       1           4\n",
       "54042       2           5\n",
       "800         3         198\n",
       "9019        4          33"
      ]
     },
     "execution_count": 2,
     "metadata": {},
     "output_type": "execute_result"
    }
   ],
   "source": [
    "# Filter the training data where x_label is 0 or 1\n",
    "training_data = data[data['x_label'].isin([0, 1])]\n",
    "\n",
    "# Calculate the item popularity for items in the training set\n",
    "item_popularity = training_data['itemID'].value_counts().reset_index()\n",
    "item_popularity.columns = ['itemID', 'popularity']\n",
    "\n",
    "# Sort the item popularity data by itemID\n",
    "item_popularity_sorted = item_popularity.sort_values(by='itemID')\n",
    "\n",
    "# Display the sorted item popularity data\n",
    "item_popularity_sorted.head()\n"
   ]
  },
  {
   "cell_type": "code",
   "execution_count": 3,
   "id": "7529f86c-6b1e-4581-839f-a34575ba226e",
   "metadata": {},
   "outputs": [],
   "source": [
    "item_popularity_sorted.to_csv('../Data/elec/item_popularity.txt', sep=' ', index=False, header=False)"
   ]
  },
  {
   "cell_type": "code",
   "execution_count": 4,
   "id": "82bb4f9d-f18e-4f8d-837a-543726c8f1eb",
   "metadata": {},
   "outputs": [],
   "source": [
    "train_data = data[data['x_label'].isin([0, 1])]\n",
    "test_data = data[data['x_label'] == 2]\n",
    "\n",
    "\n",
    "# For training data with all values as integers\n",
    "train_final_numbers = train_data.groupby('userID')['itemID'].apply(lambda x: ' '.join(map(str, map(int, x)))).reset_index()\n",
    "train_final_numbers['formatted'] = train_final_numbers['userID'].astype(int).astype(str) + ' ' + train_final_numbers['itemID']\n",
    "train_final_numbers['formatted'].to_csv('../Data/elec/train.txt', header=False, index=False)\n",
    "\n",
    "# For testing data with all values as integers\n",
    "test_final_numbers = test_data.groupby('userID')['itemID'].apply(lambda x: ' '.join(map(str, map(int, x)))).reset_index()\n",
    "test_final_numbers['formatted'] = test_final_numbers['userID'].astype(int).astype(str) + ' ' + test_final_numbers['itemID']\n",
    "test_final_numbers['formatted'].to_csv('../Data/elec/test.txt', header=False, index=False)\n"
   ]
  },
  {
   "cell_type": "code",
   "execution_count": 5,
   "id": "ac48b180-a9f6-44df-b4a0-d679590a180a",
   "metadata": {},
   "outputs": [
    {
     "data": {
      "text/plain": [
       "(63001, 384)"
      ]
     },
     "execution_count": 5,
     "metadata": {},
     "output_type": "execute_result"
    }
   ],
   "source": [
    "import numpy as np\n",
    "\n",
    "# Load the .npy file\n",
    "npy_data = np.load('../Data/elec/text_feat.npy')\n",
    "\n",
    "npy_data.shape"
   ]
  },
  {
   "cell_type": "code",
   "execution_count": 6,
   "id": "006b8486-64cc-4644-88c7-25b47c6192c2",
   "metadata": {},
   "outputs": [],
   "source": [
    "\n",
    "format_str = '%d ' + ' '.join(['%f'] * npy_data.shape[1])\n",
    "\n",
    "# Prepare the data with indices\n",
    "indexed_data = np.hstack((np.arange(npy_data.shape[0]).reshape(-1, 1), npy_data))\n",
    "\n",
    "# Save to text file\n",
    "np.savetxt('../Data/elec/itemtitle2vec.txt', indexed_data, fmt=format_str)\n"
   ]
  },
  {
   "cell_type": "code",
   "execution_count": 7,
   "id": "26ec975b-9bbb-4302-adc7-69ebc1841507",
   "metadata": {},
   "outputs": [],
   "source": [
    "# Load the .npy file\n",
    "npy_data = np.load('../Data/elec/image_feat.npy')\n",
    "\n",
    "npy_data\n",
    "\n",
    "format_str = '%d ' + ' '.join(['%f'] * npy_data.shape[1])\n",
    "\n",
    "# Prepare the data with indices\n",
    "indexed_data = np.hstack((np.arange(npy_data.shape[0]).reshape(-1, 1), npy_data))\n",
    "\n",
    "# Save to text file\n",
    "np.savetxt('../Data/elec/item2imgfeat.txt', indexed_data, fmt=format_str)\n"
   ]
  }
 ],
 "metadata": {
  "kernelspec": {
   "display_name": "base",
   "language": "python",
   "name": "python3"
  },
  "language_info": {
   "codemirror_mode": {
    "name": "ipython",
    "version": 3
   },
   "file_extension": ".py",
   "mimetype": "text/x-python",
   "name": "python",
   "nbconvert_exporter": "python",
   "pygments_lexer": "ipython3",
   "version": "3.12.10"
  }
 },
 "nbformat": 4,
 "nbformat_minor": 5
}
