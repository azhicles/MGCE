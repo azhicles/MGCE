{
 "cells": [
  {
   "cell_type": "code",
   "execution_count": null,
   "id": "e2c1dd02-4500-4ee9-8d7b-ccdbfe96df5a",
   "metadata": {},
   "outputs": [
    {
     "data": {
      "text/html": [
       "<div>\n",
       "<style scoped>\n",
       "    .dataframe tbody tr th:only-of-type {\n",
       "        vertical-align: middle;\n",
       "    }\n",
       "\n",
       "    .dataframe tbody tr th {\n",
       "        vertical-align: top;\n",
       "    }\n",
       "\n",
       "    .dataframe thead th {\n",
       "        text-align: right;\n",
       "    }\n",
       "</style>\n",
       "<table border=\"1\" class=\"dataframe\">\n",
       "  <thead>\n",
       "    <tr style=\"text-align: right;\">\n",
       "      <th></th>\n",
       "      <th>userID</th>\n",
       "      <th>itemID</th>\n",
       "      <th>rating</th>\n",
       "      <th>timestamp</th>\n",
       "      <th>x_label</th>\n",
       "    </tr>\n",
       "  </thead>\n",
       "  <tbody>\n",
       "    <tr>\n",
       "      <th>0</th>\n",
       "      <td>0</td>\n",
       "      <td>1587</td>\n",
       "      <td>5.0</td>\n",
       "      <td>1373932800</td>\n",
       "      <td>0</td>\n",
       "    </tr>\n",
       "    <tr>\n",
       "      <th>1</th>\n",
       "      <td>0</td>\n",
       "      <td>1879</td>\n",
       "      <td>5.0</td>\n",
       "      <td>1373932800</td>\n",
       "      <td>0</td>\n",
       "    </tr>\n",
       "    <tr>\n",
       "      <th>2</th>\n",
       "      <td>0</td>\n",
       "      <td>0</td>\n",
       "      <td>5.0</td>\n",
       "      <td>1373932800</td>\n",
       "      <td>0</td>\n",
       "    </tr>\n",
       "    <tr>\n",
       "      <th>3</th>\n",
       "      <td>0</td>\n",
       "      <td>1922</td>\n",
       "      <td>5.0</td>\n",
       "      <td>1363996800</td>\n",
       "      <td>1</td>\n",
       "    </tr>\n",
       "    <tr>\n",
       "      <th>4</th>\n",
       "      <td>0</td>\n",
       "      <td>3870</td>\n",
       "      <td>4.0</td>\n",
       "      <td>1357689600</td>\n",
       "      <td>2</td>\n",
       "    </tr>\n",
       "  </tbody>\n",
       "</table>\n",
       "</div>"
      ],
      "text/plain": [
       "   userID  itemID  rating   timestamp  x_label\n",
       "0       0    1587     5.0  1373932800        0\n",
       "1       0    1879     5.0  1373932800        0\n",
       "2       0       0     5.0  1373932800        0\n",
       "3       0    1922     5.0  1363996800        1\n",
       "4       0    3870     4.0  1357689600        2"
      ]
     },
     "execution_count": 4,
     "metadata": {},
     "output_type": "execute_result"
    }
   ],
   "source": [
    "import pandas as pd\n",
    "# Reload the CSV file using tab ('\\t') as the delimiter\n",
    "data = pd.read_csv('../Data/baby/baby.inter', delimiter='\\t')\n",
    "\n",
    "# Display the first few rows of the DataFrame to confirm it's loaded correctly\n",
    "data.head()\n"
   ]
  },
  {
   "cell_type": "code",
   "execution_count": 5,
   "id": "08672858-0435-4b04-87c5-afb9582b11e7",
   "metadata": {},
   "outputs": [
    {
     "data": {
      "text/html": [
       "<div>\n",
       "<style scoped>\n",
       "    .dataframe tbody tr th:only-of-type {\n",
       "        vertical-align: middle;\n",
       "    }\n",
       "\n",
       "    .dataframe tbody tr th {\n",
       "        vertical-align: top;\n",
       "    }\n",
       "\n",
       "    .dataframe thead th {\n",
       "        text-align: right;\n",
       "    }\n",
       "</style>\n",
       "<table border=\"1\" class=\"dataframe\">\n",
       "  <thead>\n",
       "    <tr style=\"text-align: right;\">\n",
       "      <th></th>\n",
       "      <th>itemID</th>\n",
       "      <th>popularity</th>\n",
       "    </tr>\n",
       "  </thead>\n",
       "  <tbody>\n",
       "    <tr>\n",
       "      <th>2541</th>\n",
       "      <td>0</td>\n",
       "      <td>14</td>\n",
       "    </tr>\n",
       "    <tr>\n",
       "      <th>1147</th>\n",
       "      <td>1</td>\n",
       "      <td>29</td>\n",
       "    </tr>\n",
       "    <tr>\n",
       "      <th>3348</th>\n",
       "      <td>2</td>\n",
       "      <td>10</td>\n",
       "    </tr>\n",
       "    <tr>\n",
       "      <th>4205</th>\n",
       "      <td>3</td>\n",
       "      <td>8</td>\n",
       "    </tr>\n",
       "    <tr>\n",
       "      <th>547</th>\n",
       "      <td>4</td>\n",
       "      <td>50</td>\n",
       "    </tr>\n",
       "  </tbody>\n",
       "</table>\n",
       "</div>"
      ],
      "text/plain": [
       "      itemID  popularity\n",
       "2541       0          14\n",
       "1147       1          29\n",
       "3348       2          10\n",
       "4205       3           8\n",
       "547        4          50"
      ]
     },
     "execution_count": 5,
     "metadata": {},
     "output_type": "execute_result"
    }
   ],
   "source": [
    "# Filter the training data where x_label is 0 or 1\n",
    "training_data = data[data['x_label'].isin([0, 1])]\n",
    "\n",
    "# Calculate the item popularity for items in the training set\n",
    "item_popularity = training_data['itemID'].value_counts().reset_index()\n",
    "item_popularity.columns = ['itemID', 'popularity']\n",
    "\n",
    "# Sort the item popularity data by itemID\n",
    "item_popularity_sorted = item_popularity.sort_values(by='itemID')\n",
    "\n",
    "# Display the sorted item popularity data\n",
    "item_popularity_sorted.head()\n"
   ]
  },
  {
   "cell_type": "code",
   "execution_count": null,
   "id": "7529f86c-6b1e-4581-839f-a34575ba226e",
   "metadata": {},
   "outputs": [],
   "source": [
    "item_popularity_sorted.to_csv('../Data/baby/item_popularity.txt', sep=' ', index=False, header=False)"
   ]
  },
  {
   "cell_type": "code",
   "execution_count": null,
   "id": "82bb4f9d-f18e-4f8d-837a-543726c8f1eb",
   "metadata": {},
   "outputs": [],
   "source": [
    "train_data = data[data['x_label'].isin([0, 1])]\n",
    "test_data = data[data['x_label'] == 2]\n",
    "\n",
    "\n",
    "# For training data with all values as integers\n",
    "train_final_numbers = train_data.groupby('userID')['itemID'].apply(lambda x: ' '.join(map(str, map(int, x)))).reset_index()\n",
    "train_final_numbers['formatted'] = train_final_numbers['userID'].astype(int).astype(str) + ' ' + train_final_numbers['itemID']\n",
    "train_final_numbers['formatted'].to_csv('../Data/baby/train.txt', header=False, index=False)\n",
    "\n",
    "# For testing data with all values as integers\n",
    "test_final_numbers = test_data.groupby('userID')['itemID'].apply(lambda x: ' '.join(map(str, map(int, x)))).reset_index()\n",
    "test_final_numbers['formatted'] = test_final_numbers['userID'].astype(int).astype(str) + ' ' + test_final_numbers['itemID']\n",
    "test_final_numbers['formatted'].to_csv('../Data/baby/test.txt', header=False, index=False)\n"
   ]
  },
  {
   "cell_type": "code",
   "execution_count": null,
   "id": "ac48b180-a9f6-44df-b4a0-d679590a180a",
   "metadata": {},
   "outputs": [
    {
     "ename": "FileNotFoundError",
     "evalue": "[Errno 2] No such file or directory: './Data/beauty/text_feat.npy'",
     "output_type": "error",
     "traceback": [
      "\u001b[31m---------------------------------------------------------------------------\u001b[39m",
      "\u001b[31mFileNotFoundError\u001b[39m                         Traceback (most recent call last)",
      "\u001b[36mCell\u001b[39m\u001b[36m \u001b[39m\u001b[32mIn[3]\u001b[39m\u001b[32m, line 8\u001b[39m\n\u001b[32m      4\u001b[39m npy_data = np.load(\u001b[33m'\u001b[39m\u001b[33m./Data/baby/text_feat.npy\u001b[39m\u001b[33m'\u001b[39m)\n\u001b[32m      6\u001b[39m npy_data.shape\n\u001b[32m----> \u001b[39m\u001b[32m8\u001b[39m npy_beauty = \u001b[43mnp\u001b[49m\u001b[43m.\u001b[49m\u001b[43mload\u001b[49m\u001b[43m(\u001b[49m\u001b[33;43m'\u001b[39;49m\u001b[33;43m./Data/beauty/text_feat.npy\u001b[39;49m\u001b[33;43m'\u001b[39;49m\u001b[43m)\u001b[49m\n",
      "\u001b[36mFile \u001b[39m\u001b[32m/opt/miniconda3/lib/python3.12/site-packages/numpy/lib/npyio.py:427\u001b[39m, in \u001b[36mload\u001b[39m\u001b[34m(file, mmap_mode, allow_pickle, fix_imports, encoding, max_header_size)\u001b[39m\n\u001b[32m    425\u001b[39m     own_fid = \u001b[38;5;28;01mFalse\u001b[39;00m\n\u001b[32m    426\u001b[39m \u001b[38;5;28;01melse\u001b[39;00m:\n\u001b[32m--> \u001b[39m\u001b[32m427\u001b[39m     fid = stack.enter_context(\u001b[38;5;28;43mopen\u001b[39;49m\u001b[43m(\u001b[49m\u001b[43mos_fspath\u001b[49m\u001b[43m(\u001b[49m\u001b[43mfile\u001b[49m\u001b[43m)\u001b[49m\u001b[43m,\u001b[49m\u001b[43m \u001b[49m\u001b[33;43m\"\u001b[39;49m\u001b[33;43mrb\u001b[39;49m\u001b[33;43m\"\u001b[39;49m\u001b[43m)\u001b[49m)\n\u001b[32m    428\u001b[39m     own_fid = \u001b[38;5;28;01mTrue\u001b[39;00m\n\u001b[32m    430\u001b[39m \u001b[38;5;66;03m# Code to distinguish from NumPy binary files and pickles.\u001b[39;00m\n",
      "\u001b[31mFileNotFoundError\u001b[39m: [Errno 2] No such file or directory: './Data/beauty/text_feat.npy'"
     ]
    }
   ],
   "source": [
    "import numpy as np\n",
    "\n",
    "# Load the .npy file\n",
    "npy_data = np.load('../Data/baby/text_feat.npy')\n",
    "\n",
    "npy_data.shape"
   ]
  },
  {
   "cell_type": "code",
   "execution_count": null,
   "id": "006b8486-64cc-4644-88c7-25b47c6192c2",
   "metadata": {},
   "outputs": [],
   "source": [
    "\n",
    "format_str = '%d ' + ' '.join(['%f'] * npy_data.shape[1])\n",
    "\n",
    "# Prepare the data with indices\n",
    "indexed_data = np.hstack((np.arange(npy_data.shape[0]).reshape(-1, 1), npy_data))\n",
    "\n",
    "# Save to text file\n",
    "np.savetxt('../Data/baby/itemtitle2vec.txt', indexed_data, fmt=format_str)\n"
   ]
  },
  {
   "cell_type": "code",
   "execution_count": null,
   "id": "26ec975b-9bbb-4302-adc7-69ebc1841507",
   "metadata": {},
   "outputs": [],
   "source": [
    "# Load the .npy file\n",
    "npy_data = np.load('../Data/baby/image_feat.npy')\n",
    "\n",
    "npy_data\n",
    "\n",
    "format_str = '%d ' + ' '.join(['%f'] * npy_data.shape[1])\n",
    "\n",
    "# Prepare the data with indices\n",
    "indexed_data = np.hstack((np.arange(npy_data.shape[0]).reshape(-1, 1), npy_data))\n",
    "\n",
    "# Save to text file\n",
    "np.savetxt('../Data/baby/item2imgfeat.txt', indexed_data, fmt=format_str)\n"
   ]
  }
 ],
 "metadata": {
  "kernelspec": {
   "display_name": "base",
   "language": "python",
   "name": "python3"
  },
  "language_info": {
   "codemirror_mode": {
    "name": "ipython",
    "version": 3
   },
   "file_extension": ".py",
   "mimetype": "text/x-python",
   "name": "python",
   "nbconvert_exporter": "python",
   "pygments_lexer": "ipython3",
   "version": "3.12.9"
  }
 },
 "nbformat": 4,
 "nbformat_minor": 5
}
