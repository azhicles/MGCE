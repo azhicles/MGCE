{
 "cells": [
  {
   "cell_type": "code",
   "execution_count": 1,
   "id": "e2c1dd02-4500-4ee9-8d7b-ccdbfe96df5a",
   "metadata": {},
   "outputs": [
    {
     "data": {
      "text/html": [
       "<div>\n",
       "<style scoped>\n",
       "    .dataframe tbody tr th:only-of-type {\n",
       "        vertical-align: middle;\n",
       "    }\n",
       "\n",
       "    .dataframe tbody tr th {\n",
       "        vertical-align: top;\n",
       "    }\n",
       "\n",
       "    .dataframe thead th {\n",
       "        text-align: right;\n",
       "    }\n",
       "</style>\n",
       "<table border=\"1\" class=\"dataframe\">\n",
       "  <thead>\n",
       "    <tr style=\"text-align: right;\">\n",
       "      <th></th>\n",
       "      <th>userID</th>\n",
       "      <th>itemID</th>\n",
       "      <th>timestamp</th>\n",
       "      <th>x_label</th>\n",
       "    </tr>\n",
       "  </thead>\n",
       "  <tbody>\n",
       "    <tr>\n",
       "      <th>0</th>\n",
       "      <td>0</td>\n",
       "      <td>3</td>\n",
       "      <td>1604569824</td>\n",
       "      <td>0</td>\n",
       "    </tr>\n",
       "    <tr>\n",
       "      <th>1</th>\n",
       "      <td>0</td>\n",
       "      <td>5</td>\n",
       "      <td>1637984651</td>\n",
       "      <td>0</td>\n",
       "    </tr>\n",
       "    <tr>\n",
       "      <th>2</th>\n",
       "      <td>0</td>\n",
       "      <td>0</td>\n",
       "      <td>1609025879</td>\n",
       "      <td>0</td>\n",
       "    </tr>\n",
       "    <tr>\n",
       "      <th>3</th>\n",
       "      <td>0</td>\n",
       "      <td>10</td>\n",
       "      <td>1642899172</td>\n",
       "      <td>0</td>\n",
       "    </tr>\n",
       "    <tr>\n",
       "      <th>4</th>\n",
       "      <td>0</td>\n",
       "      <td>17</td>\n",
       "      <td>1600728484</td>\n",
       "      <td>0</td>\n",
       "    </tr>\n",
       "  </tbody>\n",
       "</table>\n",
       "</div>"
      ],
      "text/plain": [
       "   userID  itemID   timestamp  x_label\n",
       "0       0       3  1604569824        0\n",
       "1       0       5  1637984651        0\n",
       "2       0       0  1609025879        0\n",
       "3       0      10  1642899172        0\n",
       "4       0      17  1600728484        0"
      ]
     },
     "execution_count": 1,
     "metadata": {},
     "output_type": "execute_result"
    }
   ],
   "source": [
    "import pandas as pd\n",
    "# Reload the CSV file using tab ('\\t') as the delimiter\n",
    "data = pd.read_csv('./NineRec/Downstream_datasets/DY/5_core/dy-indexed-v4.inter', delimiter='\\t')\n",
    "\n",
    "# Display the first few rows of the DataFrame to confirm it's loaded correctly\n",
    "data.head()\n"
   ]
  },
  {
   "cell_type": "code",
   "execution_count": 3,
   "id": "08672858-0435-4b04-87c5-afb9582b11e7",
   "metadata": {},
   "outputs": [
    {
     "data": {
      "text/html": [
       "<div>\n",
       "<style scoped>\n",
       "    .dataframe tbody tr th:only-of-type {\n",
       "        vertical-align: middle;\n",
       "    }\n",
       "\n",
       "    .dataframe tbody tr th {\n",
       "        vertical-align: top;\n",
       "    }\n",
       "\n",
       "    .dataframe thead th {\n",
       "        text-align: right;\n",
       "    }\n",
       "</style>\n",
       "<table border=\"1\" class=\"dataframe\">\n",
       "  <thead>\n",
       "    <tr style=\"text-align: right;\">\n",
       "      <th></th>\n",
       "      <th>itemID</th>\n",
       "      <th>popularity</th>\n",
       "    </tr>\n",
       "  </thead>\n",
       "  <tbody>\n",
       "    <tr>\n",
       "      <th>471</th>\n",
       "      <td>0</td>\n",
       "      <td>41</td>\n",
       "    </tr>\n",
       "    <tr>\n",
       "      <th>197</th>\n",
       "      <td>1</td>\n",
       "      <td>54</td>\n",
       "    </tr>\n",
       "    <tr>\n",
       "      <th>73</th>\n",
       "      <td>2</td>\n",
       "      <td>68</td>\n",
       "    </tr>\n",
       "    <tr>\n",
       "      <th>128</th>\n",
       "      <td>3</td>\n",
       "      <td>61</td>\n",
       "    </tr>\n",
       "    <tr>\n",
       "      <th>718</th>\n",
       "      <td>4</td>\n",
       "      <td>35</td>\n",
       "    </tr>\n",
       "  </tbody>\n",
       "</table>\n",
       "</div>"
      ],
      "text/plain": [
       "     itemID  popularity\n",
       "471       0          41\n",
       "197       1          54\n",
       "73        2          68\n",
       "128       3          61\n",
       "718       4          35"
      ]
     },
     "execution_count": 3,
     "metadata": {},
     "output_type": "execute_result"
    }
   ],
   "source": [
    "# Filter the training data where x_label is 0 or 1\n",
    "training_data = data[data['x_label'].isin([0, 1])]\n",
    "\n",
    "# Calculate the item popularity for items in the training set\n",
    "item_popularity = training_data['itemID'].value_counts().reset_index()\n",
    "item_popularity.columns = ['itemID', 'popularity']\n",
    "\n",
    "# Sort the item popularity data by itemID\n",
    "item_popularity_sorted = item_popularity.sort_values(by='itemID')\n",
    "\n",
    "# Display the sorted item popularity data\n",
    "item_popularity_sorted.head()\n"
   ]
  },
  {
   "cell_type": "code",
   "execution_count": 5,
   "id": "7529f86c-6b1e-4581-839f-a34575ba226e",
   "metadata": {},
   "outputs": [],
   "source": [
    "item_popularity_sorted.to_csv('./NineRec/Downstream_datasets/DY/5_core/item_popularity.txt', sep=' ', index=False, header=False)"
   ]
  },
  {
   "cell_type": "code",
   "execution_count": 7,
   "id": "82bb4f9d-f18e-4f8d-837a-543726c8f1eb",
   "metadata": {},
   "outputs": [],
   "source": [
    "train_data = data[data['x_label'].isin([0, 1])]\n",
    "test_data = data[data['x_label'] == 2]\n",
    "\n",
    "\n",
    "# For training data with all values as integers\n",
    "train_final_numbers = train_data.groupby('userID')['itemID'].apply(lambda x: ' '.join(map(str, map(int, x)))).reset_index()\n",
    "train_final_numbers['formatted'] = train_final_numbers['userID'].astype(int).astype(str) + ' ' + train_final_numbers['itemID']\n",
    "train_final_numbers['formatted'].to_csv('./NineRec/Downstream_datasets/DY/5_core/train.txt', header=False, index=False)\n",
    "\n",
    "# For testing data with all values as integers\n",
    "test_final_numbers = test_data.groupby('userID')['itemID'].apply(lambda x: ' '.join(map(str, map(int, x)))).reset_index()\n",
    "test_final_numbers['formatted'] = test_final_numbers['userID'].astype(int).astype(str) + ' ' + test_final_numbers['itemID']\n",
    "test_final_numbers['formatted'].to_csv('./NineRec/Downstream_datasets/DY/5_core/test.txt', header=False, index=False)\n"
   ]
  },
  {
   "cell_type": "code",
   "execution_count": 9,
   "id": "ac48b180-a9f6-44df-b4a0-d679590a180a",
   "metadata": {},
   "outputs": [
    {
     "data": {
      "text/plain": [
       "array([[ 0.01839369, -0.01914624,  0.13961856, ..., -0.09179249,\n",
       "         0.03171114,  0.02249038],\n",
       "       [-0.07890213,  0.06225019,  0.08174762, ...,  0.02497742,\n",
       "         0.04100604, -0.00232789],\n",
       "       [ 0.02713829, -0.0923062 ,  0.00141066, ..., -0.02901872,\n",
       "        -0.03519771, -0.05361785],\n",
       "       ...,\n",
       "       [ 0.02033167, -0.04825168,  0.08120707, ..., -0.0033165 ,\n",
       "         0.08071791, -0.04572536],\n",
       "       [-0.07413378, -0.02312653, -0.00743248, ..., -0.01061078,\n",
       "         0.00136186,  0.1098616 ],\n",
       "       [-0.02813684,  0.00770879,  0.10589706, ..., -0.05555856,\n",
       "         0.03983437, -0.00621293]], dtype=float32)"
      ]
     },
     "execution_count": 9,
     "metadata": {},
     "output_type": "execute_result"
    }
   ],
   "source": [
    "import numpy as np\n",
    "\n",
    "# Load the .npy file\n",
    "npy_data = np.load('./NineRec/Downstream_datasets/DY/5_core/text_feat-v1.npy')\n",
    "\n",
    "npy_data"
   ]
  },
  {
   "cell_type": "code",
   "execution_count": 11,
   "id": "006b8486-64cc-4644-88c7-25b47c6192c2",
   "metadata": {},
   "outputs": [],
   "source": [
    "\n",
    "format_str = '%d ' + ' '.join(['%f'] * npy_data.shape[1])\n",
    "\n",
    "# Prepare the data with indices\n",
    "indexed_data = np.hstack((np.arange(npy_data.shape[0]).reshape(-1, 1), npy_data))\n",
    "\n",
    "# Save to text file\n",
    "np.savetxt('./NineRec/Downstream_datasets/DY/5_core/itemtitle2vec.txt', indexed_data, fmt=format_str)\n"
   ]
  },
  {
   "cell_type": "code",
   "execution_count": 13,
   "id": "26ec975b-9bbb-4302-adc7-69ebc1841507",
   "metadata": {},
   "outputs": [],
   "source": [
    "# Load the .npy file\n",
    "npy_data = np.load('./NineRec/Downstream_datasets/DY/5_core/image_feat.npy')\n",
    "\n",
    "npy_data\n",
    "\n",
    "format_str = '%d ' + ' '.join(['%f'] * npy_data.shape[1])\n",
    "\n",
    "# Prepare the data with indices\n",
    "indexed_data = np.hstack((np.arange(npy_data.shape[0]).reshape(-1, 1), npy_data))\n",
    "\n",
    "# Save to text file\n",
    "np.savetxt('./NineRec/Downstream_datasets/DY/5_core/item2imgfeat.txt', indexed_data, fmt=format_str)\n"
   ]
  },
  {
   "cell_type": "code",
   "execution_count": null,
   "id": "9d791834-1f6f-470d-81ea-f3795522ada7",
   "metadata": {},
   "outputs": [],
   "source": []
  },
  {
   "cell_type": "code",
   "execution_count": null,
   "id": "e4439dfc-7fe5-4c83-a133-3f56f456e958",
   "metadata": {},
   "outputs": [],
   "source": []
  },
  {
   "cell_type": "code",
   "execution_count": null,
   "id": "8ecce179-ad93-4b16-9089-1322772ce12f",
   "metadata": {},
   "outputs": [],
   "source": []
  },
  {
   "cell_type": "code",
   "execution_count": null,
   "id": "77a043c6-d380-4464-b830-cf6280a81bfc",
   "metadata": {},
   "outputs": [],
   "source": []
  }
 ],
 "metadata": {
  "kernelspec": {
   "display_name": "Python 3 (ipykernel)",
   "language": "python",
   "name": "python3"
  },
  "language_info": {
   "codemirror_mode": {
    "name": "ipython",
    "version": 3
   },
   "file_extension": ".py",
   "mimetype": "text/x-python",
   "name": "python",
   "nbconvert_exporter": "python",
   "pygments_lexer": "ipython3",
   "version": "3.12.4"
  }
 },
 "nbformat": 4,
 "nbformat_minor": 5
}
